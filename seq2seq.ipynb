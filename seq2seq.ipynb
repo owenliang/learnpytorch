{
 "cells": [
  {
   "cell_type": "code",
   "execution_count": 1,
   "metadata": {},
   "outputs": [
    {
     "name": "stdout",
     "output_type": "stream",
     "text": [
      "cuda\n"
     ]
    }
   ],
   "source": [
    "from __future__ import unicode_literals, print_function, division\n",
    "from io import open\n",
    "import unicodedata\n",
    "import string\n",
    "import re\n",
    "import random\n",
    "\n",
    "import torch\n",
    "import torch.nn as nn\n",
    "from torch import optim\n",
    "import torch.nn.functional as F\n",
    "\n",
    "# 选择设备\n",
    "device = torch.device(\"cuda\" if torch.cuda.is_available() else \"cpu\")\n",
    "print(device)"
   ]
  },
  {
   "cell_type": "code",
   "execution_count": 2,
   "metadata": {},
   "outputs": [],
   "source": [
    "# data/eng-fra.txt文件：The file is a tab separated list of translation pairs:\n",
    "# Oh no!\tOh non !\n",
    "# 每一行是英文句子与对应的法语句子，中间是tab分割\n",
    "SOS_token = 0\n",
    "EOS_token = 1\n",
    "\n",
    "\n",
    "class Lang:\n",
    "    def __init__(self, name):\n",
    "        self.name = name\n",
    "        self.word2index = {}\n",
    "        self.word2count = {}\n",
    "        self.index2word = {0: \"SOS\", 1: \"EOS\"}\n",
    "        self.n_words = 2  # Count SOS and EOS\n",
    "\n",
    "    def addSentence(self, sentence):\n",
    "        for word in sentence.split(' '):\n",
    "            self.addWord(word)\n",
    "\n",
    "    def addWord(self, word):\n",
    "        if word not in self.word2index:\n",
    "            self.word2index[word] = self.n_words\n",
    "            self.word2count[word] = 1\n",
    "            self.index2word[self.n_words] = word\n",
    "            self.n_words += 1\n",
    "        else:\n",
    "            self.word2count[word] += 1"
   ]
  },
  {
   "cell_type": "code",
   "execution_count": 3,
   "metadata": {},
   "outputs": [],
   "source": [
    "# Turn a Unicode string to plain ASCII, thanks to\n",
    "# https://stackoverflow.com/a/518232/2809427\n",
    "def unicodeToAscii(s):\n",
    "    return ''.join(\n",
    "        c for c in unicodedata.normalize('NFD', s)\n",
    "        if unicodedata.category(c) != 'Mn'\n",
    "    )\n",
    "\n",
    "# Lowercase, trim, and remove non-letter characters\n",
    "def normalizeString(s):\n",
    "    s = unicodeToAscii(s.lower().strip()) # 转小写，去头尾空白\n",
    "    #print(s)\n",
    "    s = re.sub(r\"([.!?])\", r\" \\1\", s) # 符号 替换为 空格+符号    \n",
    "    #print(s)\n",
    "    s = re.sub(r\"[^a-zA-Z.!?]+\", r\" \", s) # 非a-zA-Z.!?，替换为1个空格 。   意思：只保留预期内的字符，多个空格合并1个空格\n",
    "    #print(s)\n",
    "    return s\n",
    "#print(normalizeString('va !'))\n",
    "def readLangs(lang1, lang2, reverse=False):\n",
    "    print(\"Reading lines...\")\n",
    "\n",
    "    # Read the file and split into lines\n",
    "    lines = open('data/%s-%s.txt' % (lang1, lang2), encoding='utf-8').\\\n",
    "        read().strip().split('\\n')\n",
    "\n",
    "    # Split every line into pairs and normalize\n",
    "    pairs = [[normalizeString(s) for s in l.split('\\t')] for l in lines] # 英文句子->法语句子\n",
    "    # print(pairs[0])\n",
    "\n",
    "    # Reverse pairs, make Lang instances\n",
    "    if reverse:\n",
    "        pairs = [list(reversed(p)) for p in pairs] # 法语句子->英文句子\n",
    "        input_lang = Lang(lang2)\n",
    "        output_lang = Lang(lang1)\n",
    "    else:\n",
    "        input_lang = Lang(lang1)\n",
    "        output_lang = Lang(lang2)\n",
    "\n",
    "    return input_lang, output_lang, pairs\n",
    "#readLangs('eng','fra')"
   ]
  },
  {
   "cell_type": "code",
   "execution_count": 4,
   "metadata": {},
   "outputs": [],
   "source": [
    "MAX_LENGTH = 10\n",
    "\n",
    "eng_prefixes = (\n",
    "    \"i am \", \"i m \",\n",
    "    \"he is\", \"he s \",\n",
    "    \"she is\", \"she s \",\n",
    "    \"you are\", \"you re \",\n",
    "    \"we are\", \"we re \",\n",
    "    \"they are\", \"they re \"\n",
    ")\n",
    "\n",
    "# 只保留英文是上面这种格式开头的样本，丢弃单词数量太多的句子\n",
    "def filterPair(p):\n",
    "    return len(p[0].split(' ')) < MAX_LENGTH and \\\n",
    "        len(p[1].split(' ')) < MAX_LENGTH and \\\n",
    "        p[1].startswith(eng_prefixes)\n",
    "\n",
    "def filterPairs(pairs):\n",
    "    return [pair for pair in pairs if filterPair(pair)]"
   ]
  },
  {
   "cell_type": "code",
   "execution_count": 5,
   "metadata": {},
   "outputs": [
    {
     "name": "stdout",
     "output_type": "stream",
     "text": [
      "Reading lines...\n",
      "Read 135842 sentence pairs\n",
      "Trimmed to 10599 sentence pairs\n",
      "Counting words...\n",
      "Counted words:\n",
      "fra 4345\n",
      "eng 2803\n",
      "['je ne suis pas tout a fait surpris .', 'i m not exactly surprised .']\n"
     ]
    }
   ],
   "source": [
    "def prepareData(lang1, lang2, reverse=False):\n",
    "    # input_lang=fra单词编码集, output_lang=eng单词编码集, pairs=[(法语句子,英文句子),(法语句子,英文句子),....]\n",
    "    input_lang, output_lang, pairs = readLangs(lang1, lang2, reverse)\n",
    "    print(\"Read %s sentence pairs\" % len(pairs))\n",
    "    # 仅保留he is , they are这种样本\n",
    "    pairs = filterPairs(pairs)\n",
    "    print(\"Trimmed to %s sentence pairs\" % len(pairs))\n",
    "    print(\"Counting words...\")\n",
    "    # 把所有pair过一遍，生成法语和英语各自的word编码\n",
    "    for pair in pairs:\n",
    "        input_lang.addSentence(pair[0])\n",
    "        output_lang.addSentence(pair[1])\n",
    "    print(\"Counted words:\")\n",
    "    # 法语的单词数量\n",
    "    print(input_lang.name, input_lang.n_words)\n",
    "    # 英语的单词数量\n",
    "    print(output_lang.name, output_lang.n_words)\n",
    "    return input_lang, output_lang, pairs\n",
    "\n",
    "\n",
    "input_lang, output_lang, pairs = prepareData('eng', 'fra', True)\n",
    "print(random.choice(pairs)) # 随机返回一个样本（法语句子,英文句子)"
   ]
  },
  {
   "cell_type": "code",
   "execution_count": 6,
   "metadata": {},
   "outputs": [
    {
     "data": {
      "text/plain": [
       "(tensor([[2],\n",
       "         [3],\n",
       "         [4],\n",
       "         [5],\n",
       "         [1]], device='cuda:0'),\n",
       " tensor([[2],\n",
       "         [3],\n",
       "         [4],\n",
       "         [1]], device='cuda:0'))"
      ]
     },
     "execution_count": 6,
     "metadata": {},
     "output_type": "execute_result"
    }
   ],
   "source": [
    "def indexesFromSentence(lang, sentence):\n",
    "    return [lang.word2index[word] for word in sentence.split(' ')]\n",
    "\n",
    "def tensorFromSentence(lang, sentence):\n",
    "    indexes = indexesFromSentence(lang, sentence)\n",
    "    indexes.append(EOS_token)\n",
    "    # indexs=[2,3,4,5,1], .view之后[[2],[3],[4],[5],[1]]\n",
    "    return torch.tensor(indexes, dtype=torch.long, device=device).view(-1, 1)\n",
    "\n",
    "def tensorsFromPair(pair):\n",
    "    input_tensor = tensorFromSentence(input_lang, pair[0])\n",
    "    target_tensor = tensorFromSentence(output_lang, pair[1])\n",
    "    return (input_tensor, target_tensor)\n",
    "\n",
    "# 参数:(法语句子,英语句子)\n",
    "# 返回:(法语单词列表，英语单词列表)\n",
    "tensorsFromPair(pairs[0])"
   ]
  },
  {
   "cell_type": "code",
   "execution_count": 7,
   "metadata": {},
   "outputs": [
    {
     "data": {
      "text/plain": [
       "'\\n翻译问题不是1个词预测下1个词的简单问题，比如会面临：\\n1，法语的一个词可能要用2个英语词对应\\n2，可能法语的2个词对应的英语2个词顺序也不一样\\n总之翻译问题不是简单的一一映射，\\n因此需要一个更高级的encoder-decoder模型结构来实现翻译效果.\\n\\nencoder基于rnn模式将法语句子最终编码成1个向量,作为decode的输入\\n'"
      ]
     },
     "execution_count": 7,
     "metadata": {},
     "output_type": "execute_result"
    }
   ],
   "source": [
    "'''\n",
    "翻译问题不是1个词预测下1个词的简单问题，比如会面临：\n",
    "1，法语的一个词可能要用2个英语词对应\n",
    "2，可能法语的2个词对应的英语2个词顺序也不一样\n",
    "总之翻译问题不是简单的一一映射，\n",
    "因此需要一个更高级的encoder-decoder模型结构来实现翻译效果.\n",
    "\n",
    "encoder基于rnn模式将法语句子最终编码成1个向量,作为decode的输入\n",
    "''' "
   ]
  },
  {
   "cell_type": "code",
   "execution_count": 24,
   "metadata": {},
   "outputs": [
    {
     "name": "stdout",
     "output_type": "stream",
     "text": [
      "['j ai ans .', 'i m .']\n",
      "法语句子的单词数量: torch.Size([5, 1])\n",
      "tensor([3], device='cuda:0')\n",
      "输入: torch.Size([1]) torch.Size([1, 1, 256])\n",
      "输出: torch.Size([1, 1, 256]) torch.Size([1, 1, 256])\n",
      "torch.Size([10, 256])\n",
      "tensor([[ 0.3704,  0.2892, -0.1642,  ..., -0.3367, -0.2529,  0.4515],\n",
      "        [-0.1132, -0.3533, -0.0856,  ..., -0.4212, -0.2919, -0.3448],\n",
      "        [-0.0583, -0.0008, -0.0325,  ..., -0.5871, -0.3124,  0.2139],\n",
      "        ...,\n",
      "        [ 0.0000,  0.0000,  0.0000,  ...,  0.0000,  0.0000,  0.0000],\n",
      "        [ 0.0000,  0.0000,  0.0000,  ...,  0.0000,  0.0000,  0.0000],\n",
      "        [ 0.0000,  0.0000,  0.0000,  ...,  0.0000,  0.0000,  0.0000]],\n",
      "       device='cuda:0', grad_fn=<CopySlices>)\n",
      "torch.Size([1, 1, 256])\n",
      "~~~~~\n"
     ]
    },
    {
     "data": {
      "text/plain": [
       "torch.Size([1, 256])"
      ]
     },
     "execution_count": 24,
     "metadata": {},
     "output_type": "execute_result"
    }
   ],
   "source": [
    "# encoder把句子编码成词嵌入序列\n",
    "# decode则根据这个词嵌入序列，从句子开始不断续写下一个单词\n",
    "class EncoderRNN(nn.Module):\n",
    "    def __init__(self, input_size, hidden_size):\n",
    "        super(EncoderRNN, self).__init__()\n",
    "        self.hidden_size = hidden_size\n",
    "        self.embedding = nn.Embedding(input_size, hidden_size)\n",
    "        self.gru = nn.GRU(hidden_size, hidden_size)\n",
    "\n",
    "    def forward(self, input, hidden):\n",
    "        embedded = self.embedding(input).view(1, 1, -1) # embedded=[1,1,256] \n",
    "        output = embedded\n",
    "        #print('emb',output.shape)\n",
    "        # GRU模型的输入输出格式：https://pytorch.org/docs/stable/generated/torch.nn.GRU.html\n",
    "        output, hidden = self.gru(output, hidden)  # output=[1,1,256],hidden=[1,1,256]\n",
    "        return output, hidden\n",
    "\n",
    "    def initHidden(self):\n",
    "        return torch.zeros(1, 1, self.hidden_size, device=device)\n",
    "\n",
    "# encoder rnn模型\n",
    "hidden_size = 256\n",
    "encoder1 = EncoderRNN(input_lang.n_words, hidden_size).to(device)\n",
    "\n",
    "# 输入：法语句子中某个单词的one-hot向量 + RNN隐层\n",
    "input_tensor,target_tensor=tensorsFromPair(pairs[0])\n",
    "print(pairs[0])\n",
    "print('法语句子的单词数量:',input_tensor.shape)\n",
    "print(input_tensor[1])\n",
    "hidden=encoder1.initHidden()\n",
    "\n",
    "# 前向传播\n",
    "print('输入:',input_tensor[0].shape,hidden.shape)\n",
    "output0,hidden=encoder1.forward(input_tensor[0],hidden)\n",
    "print('输出:',output0.shape,hidden.shape)\n",
    "output1,hidden=encoder1.forward(input_tensor[1],hidden)\n",
    "output2,hidden=encoder1.forward(input_tensor[2],hidden)\n",
    "output3,hidden=encoder1.forward(input_tensor[3],hidden)\n",
    "output4,hidden=encoder1.forward(input_tensor[4],hidden)\n",
    "# 1，将输出整理成词嵌入序列，作为decoder的一个输入，用作注意力机制\n",
    "# 2，将输出的hidden作为decoder的初始hidden\n",
    "encoder_outputs = torch.zeros(MAX_LENGTH, encoder1.hidden_size, device=device)\n",
    "encoder_outputs[0]+=output0[0][0]\n",
    "encoder_outputs[1]+=output1[0][0]\n",
    "encoder_outputs[2]+=output2[0][0]\n",
    "encoder_outputs[3]+=output3[0][0]\n",
    "encoder_outputs[4]+=output4[0][0]\n",
    "print(encoder_outputs.shape) # 最多能装10个单词的emd向量\n",
    "print(encoder_outputs) # 少于10个单词的句子会有留下一些全0的emb向量\n",
    "print(hidden.shape)\n",
    "print('~~~~~')\n",
    "# embedding层用法\n",
    "emb=nn.Embedding(input_lang.n_words, hidden_size, device=device)\n",
    "emb(input_tensor[0]).shape"
   ]
  },
  {
   "cell_type": "code",
   "execution_count": 20,
   "metadata": {},
   "outputs": [],
   "source": [
    "# tensorboard可视化网络结构\n",
    "from torch.utils.tensorboard import SummaryWriter\n",
    "with SummaryWriter('runs/encoder') as w:\n",
    "    hidden_size = 256\n",
    "    encoder1 = EncoderRNN(input_lang.n_words, hidden_size).to(device)\n",
    "    input_tensor,target_tensor=tensorsFromPair(pairs[0])\n",
    "    hidden=encoder1.initHidden()\n",
    "    w.add_graph(encoder1, (input_tensor[0],hidden))"
   ]
  }
 ],
 "metadata": {
  "kernelspec": {
   "display_name": "torch",
   "language": "python",
   "name": "python3"
  },
  "language_info": {
   "codemirror_mode": {
    "name": "ipython",
    "version": 3
   },
   "file_extension": ".py",
   "mimetype": "text/x-python",
   "name": "python",
   "nbconvert_exporter": "python",
   "pygments_lexer": "ipython3",
   "version": "3.9.16"
  },
  "orig_nbformat": 4
 },
 "nbformat": 4,
 "nbformat_minor": 2
}
